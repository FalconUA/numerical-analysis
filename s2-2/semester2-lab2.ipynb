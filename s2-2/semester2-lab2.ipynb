{
 "cells": [
  {
   "cell_type": "code",
   "execution_count": 1,
   "metadata": {
    "collapsed": true
   },
   "outputs": [],
   "source": [
    "import numpy as np\n",
    "import matplotlib.pyplot as plt\n",
    "import matplotlib.animation as animation\n",
    "import math"
   ]
  },
  {
   "cell_type": "code",
   "execution_count": 2,
   "metadata": {
    "collapsed": false
   },
   "outputs": [],
   "source": [
    "def generate_vectormap(xc, yc, intenses, rect=[[-5, -5], [5, 5]], eps=1.0):\n",
    "    x = np.linspace(rect[0][0], rect[1][0], int((rect[1][0] - rect[0][0])/eps))\n",
    "    y = np.linspace(rect[0][1], rect[1][1], int((rect[1][1] - rect[0][1])/eps))\n",
    "    x, y = np.meshgrid(x, y)\n",
    "    \n",
    "    def E(g, a, b, x, y, delta=0.1):        \n",
    "        R = np.maximum(np.abs(((x-float(a))**2+(y-float(b))**2)), delta)\n",
    "        v = (float(g)/2.0*math.pi) * ((x-a)/R)\n",
    "        u = (float(g)/2.0*math.pi) * ((b-y)/R)\n",
    "        return u, v\n",
    "    \n",
    "    xc = np.array(xc, dtype=np.float_)\n",
    "    yc = np.array(yc, dtype=np.float_)\n",
    "    assert(xc.shape == yc.shape)\n",
    "    \n",
    "    Ex, Ey = E(intenses[0], xc[0], yc[0], x, y)\n",
    "    for i in range(1, xc.shape[0]):\n",
    "        Ex_, Ey_ = E(intenses[i], xc[i], yc[i], x, y)\n",
    "        Ex = Ex + Ex_\n",
    "        Ey = Ey + Ey_\n",
    "     \n",
    "    return x, y, Ex, Ey\n",
    "    #plt.quiver(x, y, Ex/np.sqrt(Ex**2+Ey**2), Ey/np.sqrt(Ex**2+Ey**2), pivot='middle', \n",
    "    #           headwidth=3, headlength=6, color='gray')\n",
    "    #plt.plot(xc, yc, 'ro')\n",
    "#    #plt.show()"
   ]
  },
  {
   "cell_type": "code",
   "execution_count": 3,
   "metadata": {
    "collapsed": false
   },
   "outputs": [],
   "source": [
    "\n",
    "\n",
    "xc = [0]\n",
    "yc = [0]\n",
    "intenses = [1]\n",
    "\n",
    "#xc = [-1, -1, 1, 1, 0]\n",
    "#yc = [-1, 1, -1, 1, 0]\n",
    "#intenses = [1/5, 1/5, 1/5, 1/5, 1/5]\n",
    "\n",
    "x, y, Ex, Ey = generate_vectormap(xc, yc, intenses, rect=[[-2, -2], [2, 2]], eps=0.1)\n",
    "\n",
    "plt.quiver(x, y, Ex/np.sqrt(Ex**2+Ey**2), Ey/np.sqrt(Ex**2+Ey**2), pivot='middle', \n",
    "           headwidth=4, headlength=6, color='gray')\n",
    "plt.plot(xc, yc, 'ro')\n",
    "plt.show()\n",
    "\n",
    "x_init = 0.5\n",
    "y_init = 0.5"
   ]
  },
  {
   "cell_type": "code",
   "execution_count": 5,
   "metadata": {
    "collapsed": false
   },
   "outputs": [],
   "source": [
    "def V(x, y, xc, yc, g):\n",
    "    def E(g, a, b, x, y, delta=0.01):        \n",
    "        R = np.maximum(np.abs(((x-float(a))**2+(y-float(b))**2)), delta)\n",
    "        v = (float(g)/2.0*math.pi) * ((x-a)/R)\n",
    "        u = (float(g)/2.0*math.pi) * ((b-y)/R)\n",
    "        return u, v\n",
    "    \n",
    "    assert len(xc) == len(yc) == len(g)\n",
    "    u, v = 0, 0\n",
    "    for i in range(len(xc)):\n",
    "        du, dv = E(g[i], xc[i], yc[i], x, y)\n",
    "        u = u + du\n",
    "        v = v + dv\n",
    "        \n",
    "    return u, v\n",
    "\n",
    "def R(x, y, xprev, yprev, dt, xc, yc, g):\n",
    "    assert len(xc) == len(yc) == len(g)    \n",
    "    \n",
    "    uprev, vprev = V(xprev, yprev, xc, yc, g)\n",
    "    u, v = V(x, y, xc, yc, g)\n",
    "    \n",
    "    x = x + dt/2 * (u + uprev)\n",
    "    y = y + dt/2 * (v + vprev)\n",
    "    \n",
    "    return x, y\n",
    "\n",
    "def euler_draw_path(x0, y0, u0, v0, xc, yc, intenses, rect):\n",
    "    fig, ax = plt.subplots()\n",
    "    line, = ax.plot([], [], 'g-', lw=2)\n",
    "    point, = ax.plot(x0, y0, 'bo')\n",
    "    ax.set_ylim(rect[0][1], rect[1][1])\n",
    "    ax.set_xlim(rect[0][0], rect[1][0])\n",
    "    \n",
    "    tdata = [0]\n",
    "    xdata = [x0 - u0, x0]\n",
    "    ydata = [y0 - v0, y0]\n",
    "    udata = [0, u0]\n",
    "    vdata = [0, v0]\n",
    "    \n",
    "    def run(t):\n",
    "        # update the data            \n",
    "        i = len(xdata)\n",
    "        x, y = R(xdata[len(xdata)-1], ydata[len(ydata)-1], \n",
    "                 xdata[len(xdata)-2], ydata[len(ydata)-2], t-tdata[len(tdata)-1], xc, yc, intenses)\n",
    "        \n",
    "        tdata.append(t)\n",
    "        xdata.append(x)\n",
    "        ydata.append(y)\n",
    "                \n",
    "        point.set_data(x, y)\n",
    "        line.set_data(xdata[1:], ydata[1:])\n",
    "        return line, point,\n",
    "    \n",
    "    \n",
    "    x, y, Ex, Ey = generate_vectormap(xc, yc, intenses, rect, eps=0.1)\n",
    "    \n",
    "    ax.quiver(x, y, Ex/np.sqrt(Ex**2+Ey**2), Ey/np.sqrt(Ex**2+Ey**2), pivot='middle', \n",
    "               headwidth=4, headlength=6, color='gray')\n",
    "    ax.plot(xc, yc, 'ro')\n",
    "    ani = animation.FuncAnimation(fig, run, np.arange(0, 100, 0.005), blit=True, interval=0.001,\n",
    "        repeat=False)\n",
    "    plt.show()"
   ]
  },
  {
   "cell_type": "code",
   "execution_count": 6,
   "metadata": {
    "collapsed": false
   },
   "outputs": [],
   "source": [
    "xc = [-1.0, -1.0, 1.0, 1.0, 0.0]\n",
    "yc = [-1.0, 1.0, -1.0, 1.0, 0.0]\n",
    "intenses = [1/5, 1/5, 1/5, 1/5, 1/5]\n",
    "\n",
    "#xc = [-1.0, -0.5, 1.0, 0.5, 0.0]\n",
    "#yc = [0, 0, 0, 0, 0]\n",
    "\n",
    "#Masha:\n",
    "#xc = [-0.5, -0.5, 0.5, 0.5]\n",
    "#yc = [-0.5, 0.5, -0.5, 0.5]\n",
    "#intenses = [1/4, 1/4, 1/4, 1/4]\n",
    "\n",
    "x0 = 0.5\n",
    "y0 = 0.7\n",
    "u0 = 0\n",
    "v0 = 0\n",
    "\n",
    "rect = [[-2, -2],[2, 2]]\n",
    "euler_draw_path(x0, y0, u0, v0, xc, yc, intenses, rect)\n"
   ]
  },
  {
   "cell_type": "code",
   "execution_count": 17,
   "metadata": {
    "collapsed": false
   },
   "outputs": [
    {
     "name": "stdout",
     "output_type": "stream",
     "text": [
      "y(0.0)\t= 1.000000 \t error:    0\n",
      "y(1.0)\t= 1.562500 \t error: 1.45722e-07\n",
      "y(2.0)\t= 3.999999 \t error: 9.19479e-07\n",
      "y(3.0)\t= 10.562497 \t error: 2.90956e-06\n",
      "y(4.0)\t= 24.999994 \t error: 6.23491e-06\n",
      "y(5.0)\t= 52.562489 \t error: 1.08197e-05\n",
      "y(6.0)\t= 99.999983 \t error: 1.65946e-05\n",
      "y(7.0)\t= 175.562476 \t error: 2.35177e-05\n",
      "y(8.0)\t= 288.999968 \t error: 3.15652e-05\n",
      "y(9.0)\t= 451.562459 \t error: 4.07232e-05\n",
      "y(10.0)\t= 675.999949 \t error: 5.09833e-05\n"
     ]
    }
   ],
   "source": [
    "def RK4(f):\n",
    "    return lambda t, y, dt: (\n",
    "            lambda dy1: (\n",
    "            lambda dy2: (\n",
    "            lambda dy3: (\n",
    "            lambda dy4: (dy1 + 2*dy2 + 2*dy3 + dy4)/6\n",
    "            )( dt * f( t + dt  , y + dy3   ) )\n",
    "            )( dt * f( t + dt/2, y + dy2/2 ) )\n",
    "            )( dt * f( t + dt/2, y + dy1/2 ) )\n",
    "            )( dt * f( t       , y         ) )\n",
    " \n",
    "def theory(t): return (t**2 + 4)**2 /16\n",
    " \n",
    "from math import sqrt\n",
    "dy = RK4(lambda t, y: t*sqrt(y))\n",
    " \n",
    "t, y, dt = 0., 1., .1\n",
    "while t <= 10:\n",
    "    if abs(round(t) - t) < 1e-5:\n",
    "        print(\"y(%2.1f)\\t= %4.6f \\t error: %4.6g\" % ( t, y, abs(y - theory(t))))\n",
    "    t, y = t + dt, y + dy( t, y, dt )\n",
    " "
   ]
  },
  {
   "cell_type": "code",
   "execution_count": 7,
   "metadata": {
    "collapsed": false
   },
   "outputs": [],
   "source": [
    "def rk4_draw_path(x0, y0, dt, T, xc, yc, gc, rect):\n",
    "    def RK4(f):\n",
    "        return lambda t, y, dt, xc, yc, gc: (\n",
    "                lambda dy1: (\n",
    "                lambda dy2: (\n",
    "                lambda dy3: (\n",
    "                lambda dy4: (dy1 + 2*dy2 + 2*dy3 + dy4)/6\n",
    "                )( dt * f( t + dt  , y + dy3   , xc, yc, gc) )\n",
    "                )( dt * f( t + dt/2, y + dy2/2 , xc, yc, gc) )\n",
    "                )( dt * f( t + dt/2, y + dy1/2 , xc, yc, gc) )\n",
    "                )( dt * f( t       , y         , xc, yc, gc) )\n",
    " \n",
    "    def V(x, y, xc, yc, gc):\n",
    "        def E(g, a, b, x, y, delta=0.001):\n",
    "            R = np.maximum(np.abs(((x-float(a))**2+(y-float(b))**2)), delta)\n",
    "            v = (float(g)/2.0*math.pi) * ((x-a)/R)\n",
    "            u = (float(g)/2.0*math.pi) * ((b-y)/R)\n",
    "            return u, v\n",
    "    \n",
    "        assert len(xc) == len(yc) == len(gc)\n",
    "        u, v = 0, 0\n",
    "        for i in range(len(xc)):\n",
    "            du, dv = E(gc[i], xc[i], yc[i], x, y)\n",
    "            u = u + du\n",
    "            v = v + dv        \n",
    "        return np.array([u, v])\n",
    "        \n",
    "    dy = RK4(lambda t, y, xc, yc, gc: V(y[0], y[1], xc, yc, gc))\n",
    " \n",
    "    fig, ax = plt.subplots()\n",
    "    line, = ax.plot([], [], 'g-', lw=2)\n",
    "    point, = ax.plot(x0, y0, 'bo')\n",
    "    ax.set_ylim(rect[0][1], rect[1][1])\n",
    "    ax.set_xlim(rect[0][0], rect[1][0])\n",
    "    \n",
    "    tprev = 0.0\n",
    "    xdata = [x0]\n",
    "    ydata = [y0]\n",
    "    \n",
    "    def run(t):\n",
    "        # update the data            \n",
    "        \n",
    "        v = np.array([xdata[len(xdata)-1], ydata[len(ydata)-1]])\n",
    "        #dt = t - tprev\n",
    "        \n",
    "        v = v + dy(t, v, dt, xc, yc, gc)\n",
    "        \n",
    "        #tprev = t\n",
    "        xdata.append(v[0])\n",
    "        ydata.append(v[1])\n",
    "        \n",
    "        point.set_data(v[0], v[1])\n",
    "        line.set_data(xdata[1:], ydata[1:])\n",
    "        return line, point,\n",
    "    \n",
    "    \n",
    "    x, y, Ex, Ey = generate_vectormap(xc, yc, intenses, rect, eps=0.1)\n",
    "    \n",
    "    ax.quiver(x, y, Ex/np.sqrt(Ex**2+Ey**2), Ey/np.sqrt(Ex**2+Ey**2), pivot='middle', \n",
    "               headwidth=4, headlength=6, color='gray')\n",
    "    ax.plot(xc, yc, 'ro')\n",
    "    ani = animation.FuncAnimation(fig, run, np.arange(0, T, dt), blit=True, interval=0.001,\n",
    "        repeat=False)\n",
    "    plt.show()"
   ]
  },
  {
   "cell_type": "code",
   "execution_count": 8,
   "metadata": {
    "collapsed": false
   },
   "outputs": [],
   "source": [
    "xc = [-1.0, -1.0, 1.0, 1.0, 0.0]\n",
    "yc = [-1.0, 1.0, -1.0, 1.0, 0.0]\n",
    "intenses = [1/5, 1/5, 1/5, 1/5, 1/5, ]\n",
    "\n",
    "#xc = [-1.0, -0.5, 1.0, 0.5, 0.0]\n",
    "#yc = [0, 0, 0, 0, 0]\n",
    "\n",
    "#Masha:\n",
    "#xc = [-0.5, -0.5, 0.5, 0.5]\n",
    "#yc = [-0.5, 0.5, -0.5, 0.5]\n",
    "#intenses = [1/4, 1/4, 1/4, 1/4]\n",
    "\n",
    "x0 = 0.5\n",
    "y0 = 0.6\n",
    "\n",
    "dt = 0.01\n",
    "T = 100\n",
    "rect = [[-2, -2],[2, 2]]\n",
    "\n",
    "rk4_draw_path(x0, y0, dt, T, xc, yc, intenses, rect)"
   ]
  },
  {
   "cell_type": "code",
   "execution_count": null,
   "metadata": {
    "collapsed": true
   },
   "outputs": [],
   "source": []
  },
  {
   "cell_type": "code",
   "execution_count": null,
   "metadata": {
    "collapsed": true
   },
   "outputs": [],
   "source": []
  }
 ],
 "metadata": {
  "kernelspec": {
   "display_name": "Python 3",
   "language": "python",
   "name": "python3"
  },
  "language_info": {
   "codemirror_mode": {
    "name": "ipython",
    "version": 3
   },
   "file_extension": ".py",
   "mimetype": "text/x-python",
   "name": "python",
   "nbconvert_exporter": "python",
   "pygments_lexer": "ipython3",
   "version": "3.5.2"
  }
 },
 "nbformat": 4,
 "nbformat_minor": 0
}
