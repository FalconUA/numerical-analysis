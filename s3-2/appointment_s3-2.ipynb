{
 "cells": [
  {
   "cell_type": "code",
   "execution_count": 14,
   "metadata": {
    "collapsed": false
   },
   "outputs": [
    {
     "name": "stdout",
     "output_type": "stream",
     "text": [
      "Populating the interactive namespace from numpy and matplotlib\n"
     ]
    },
    {
     "name": "stderr",
     "output_type": "stream",
     "text": [
      "/usr/lib/python3.5/site-packages/IPython/core/magics/pylab.py:161: UserWarning: pylab import has clobbered these variables: ['f']\n",
      "`%matplotlib` prevents importing * from pylab and numpy\n",
      "  \"\\n`%matplotlib` prevents importing * from pylab and numpy\"\n"
     ]
    }
   ],
   "source": [
    "# general purpose libraries\n",
    "import numpy as np\n",
    "import numpy.linalg as lg\n",
    "from matplotlib import pyplot as plt\n",
    "\n",
    "# orthogonal polynomials\n",
    "from scipy.special import jacobi\n",
    "from scipy.linalg import solve_banded\n",
    "\n",
    "%pylab inline"
   ]
  },
  {
   "cell_type": "code",
   "execution_count": 56,
   "metadata": {
    "collapsed": true
   },
   "outputs": [],
   "source": [
    "def d_dx(f, eps=0.0001):\n",
    "    return lambda x: (f(x+eps) - f(x))/eps\n",
    "\n",
    "def d2_dx2(f, eps=0.0001):\n",
    "    return lambda x: d_dx(d_dx(f, eps), eps)(x)"
   ]
  },
  {
   "cell_type": "code",
   "execution_count": 285,
   "metadata": {
    "collapsed": false
   },
   "outputs": [],
   "source": [
    "# Initializing the variables\n",
    "m1, m2, m3, m4, m5 = 10, 3, 1, 1, 7\n",
    "k1, k2, k3 = 2, 2, 1\n",
    "p1, p2, p3 = 4, 1, 1\n",
    "q1, q2, q3 = 1, 2, 1\n",
    "alpha1, alpha2 = 1, 1\n",
    "a, b = -math.pi, math.pi\n",
    "\n",
    "u = lambda x: m1*sin(m2*x) + m3*cos(m4*x) + m5\n",
    "k = lambda x: k1*cos(k2*x) + k3\n",
    "p = lambda x: p1*sin(p2*x) + p3\n",
    "q = lambda x: q1*cos(q2*x) + q3\n",
    "\n",
    "du_dx = lambda x: d_dx(u, 0.0000001)(x)#-m1*m2*sin(m2*x) - m3*m4*sin(m4*x)\n",
    "d2u_dx2 = lambda x: d2_dx2(u, 0.0000001)(x)#-m2*m2*m2*cos(m2*x) - m3*m4*m4*cos(m4*x)\n",
    "dk_dx = lambda x: -k1*k2*sin(k2*x)\n",
    "\n",
    "bound_a = lambda v, dv_dx: -k(a)*dv_dx(a) + alpha1*v(a)\n",
    "bound_b = lambda v, dv_dx: k(b)*dv_dx(b) + alpha2*v(b)\n",
    "\n",
    "# differential operator\n",
    "A = lambda v, dv_dx, d2v_dx2: lambda x: -(dk_dx(x) * dv_dx(x)) - (k(x) * d2v_dx2(x)) + p(x) * dv_dx(x) + q(x) * v(x)\n",
    "f = lambda x: A(u, du_dx, d2u_dx2)(x)\n",
    "\n",
    "# boundary values\n",
    "mu1 = bound_a(u, du_dx)\n",
    "mu2 = bound_b(u, du_dx)"
   ]
  },
  {
   "cell_type": "code",
   "execution_count": 298,
   "metadata": {
    "collapsed": false
   },
   "outputs": [],
   "source": [
    "# defining grid space\n",
    "n = 1000\n",
    "x, h = np.linspace(a, b, n+1, endpoint=True, retstep=True)\n",
    "\n",
    "# defining finite differential scheme: c1_i*y_{i+1} + c2_i*y_i + c3_i*y_{i-1} = h^2*f_i\n",
    "c1 = lambda i: -k(x[i]+h/2) + h*p(x[i])/2\n",
    "c2 = lambda i: k(x[i]+h/2) + k(x[i]-h/2) + (h**2)*q(x[i])\n",
    "c3 = lambda i: -k(x[i]-h/2) - h*p(x[i])/2\n",
    "fi = lambda i: f(x[i])*(h**2)\n",
    "\n",
    "# boundary conditions:\n",
    "# -k_0*(y_{0+1} - y_0) + h*alpha1*y_0 = h*mu1\n",
    "a0 = k(x[0]) + alpha1*h\n",
    "a1 = -k(x[0])\n",
    "# k_n*(y_n - y_{n-1}) + h*alpha2*y_n = h*mu2\n",
    "z0 = -k(x[n])\n",
    "z1 = k(x[n]) + alpha2*h\n",
    "\n",
    "# constructing tridiagonal matrix: Ly = c\n",
    "UDL = np.zeros(shape=(3, n+1))\n",
    "\n",
    "UDL[1, 0], UDL[1, n] = a0, z1\n",
    "UDL[0, 1] = a1\n",
    "UDL[2, n-1] = z0\n",
    "\n",
    "c = np.ndarray(shape=(n+1))\n",
    "c[0], c[n] = mu1*h, mu2*h\n",
    "\n",
    "for i in range(1, n):\n",
    "    UDL[1, i] = c2(i)\n",
    "    UDL[0, i+1] = c1(i)\n",
    "    UDL[2, i-1] = c3(i)\n",
    "    c[i] = fi(i)\n",
    "    \n",
    "y = solve_banded((1, 1), UDL, c)\n",
    "\n",
    "#L = np.zeros(shape=(n+1, n+1))\n",
    "#L[0, 0], L[0, 1] = a0, a1\n",
    "#L[n, n-1], L[n, n] = z0, z1\n",
    "#for i in range(1, n):\n",
    "#    L[i, i-1], L[i, i], L[i, i+1] = c3(i), c2(i), c1(i)\n",
    "#y1 = lg.solve(L, c)"
   ]
  },
  {
   "cell_type": "code",
   "execution_count": 299,
   "metadata": {
    "collapsed": false
   },
   "outputs": [
    {
     "data": {
      "text/plain": [
       "[<matplotlib.lines.Line2D at 0x7faff7195128>]"
      ]
     },
     "execution_count": 299,
     "metadata": {},
     "output_type": "execute_result"
    },
    {
     "data": {
      "image/png": "[encoded data removed]",
      "text/plain": [
       "<matplotlib.figure.Figure at 0x7faff71aaba8>"
      ]
     },
     "metadata": {},
     "output_type": "display_data"
    }
   ],
   "source": [
    "figure(num=None, figsize=(10, 8), dpi=80, facecolor='w', edgecolor='k')\n",
    "\n",
    "\n",
    "xplot = np.linspace(a, b, n+1, True)\n",
    "xpoints = np.linspace(a, b, 1000, True)\n",
    "ysol = y\n",
    "yorig = u(xpoints)\n",
    "\n",
    "plt.plot(xplot, ysol)\n",
    "plt.plot(xpoints, yorig, '--')"
   ]
  },
  {
   "cell_type": "code",
   "execution_count": 185,
   "metadata": {
    "collapsed": true
   },
   "outputs": [],
   "source": [
    "# defining grid space\n",
    "n = 20\n",
    "x, h = np.linspace(a, b, n+1, endpoint=True, retstep=True)\n",
    "\n",
    "# defining finite differential scheme: c1_i*y_{i+1} + c2_i*y_i + c3_i*y_{i-1} = h^2*f_i\n",
    "ui = lambda i: k(x[i] - h/2)\n",
    "di = lambda i: -(k(x[i+1] - h/2) + k(x[i] - h/2) + q(x[i])*(h**2))\n",
    "ci = lambda i: k(x[i+1] - h/2)\n",
    "bi = lambda i: -f(x[i])*(h**2)\n",
    "\n",
    "# boundary conditions:\n",
    "# -k_0*(y_{0+1} - y_0) + h*alpha1*y_0 = h*mu1\n",
    "d0 = alpha1 + q(x[0])*h/2 + k(x[1] - h/2)/h\n",
    "c0 = -k(x[1] - h/2)/h\n",
    "b0 = mu1 + f(x[0])*h/2\n",
    "\n",
    "un = -k(x[n] - h/2)/h\n",
    "dn = alpha2 + q(x[n])*h/2 + k(x[n] - h/2)/h\n",
    "bn = mu2 + f(x[n])*h/2\n",
    "\n",
    "# constructing tridiagonal matrix: Ly = c\n",
    "UDL = np.zeros(shape=(3, n+1))\n",
    "\n",
    "UDL[1, 0], UDL[1, n] = d0, dn\n",
    "UDL[0, 1] = c0\n",
    "UDL[2, n-1] = un\n",
    "\n",
    "c = np.ndarray(shape=(n+1))\n",
    "c[0], c[n] = b0, bn\n",
    "\n",
    "for i in range(1, n):\n",
    "    UDL[1, i] = di(i)\n",
    "    UDL[0, i+1] = ci(i)\n",
    "    UDL[2, i-1] = ui(i)\n",
    "    c[i] = bi(i)\n",
    "    \n",
    "y = solve_banded((1, 1), UDL, c)"
   ]
  },
  {
   "cell_type": "code",
   "execution_count": 186,
   "metadata": {
    "collapsed": false
   },
   "outputs": [
    {
     "data": {
      "text/plain": [
       "[<matplotlib.lines.Line2D at 0x7faff84c09e8>]"
      ]
     },
     "execution_count": 186,
     "metadata": {},
     "output_type": "execute_result"
    },
    {
     "data": {
      "image/png": "[encoded data removed]",
      "text/plain": [
       "<matplotlib.figure.Figure at 0x7faff85ab668>"
      ]
     },
     "metadata": {},
     "output_type": "display_data"
    }
   ],
   "source": [
    "figure(num=None, figsize=(16, 5), dpi=80, facecolor='w', edgecolor='k')\n",
    "\n",
    "plt.suptitle('Method: differential scheme', size=14)\n",
    "\n",
    "xplot = np.linspace(a, b, n+1, True)\n",
    "xpoints = np.linspace(a, b, 1000, True)\n",
    "ysol = y\n",
    "yorig = u(xpoints)\n",
    "\n",
    "plt.subplot(1, 2, 1)\n",
    "plt.title('u(x)')\n",
    "plt.plot(xplot, ysol)\n",
    "plt.plot(xpoints, yorig, '--')"
   ]
  },
  {
   "cell_type": "code",
   "execution_count": null,
   "metadata": {
    "collapsed": true
   },
   "outputs": [],
   "source": []
  }
 ],
 "metadata": {
  "kernelspec": {
   "display_name": "Python 3",
   "language": "python",
   "name": "python3"
  },
  "language_info": {
   "codemirror_mode": {
    "name": "ipython",
    "version": 3
   },
   "file_extension": ".py",
   "mimetype": "text/x-python",
   "name": "python",
   "nbconvert_exporter": "python",
   "pygments_lexer": "ipython3",
   "version": "3.5.2"
  }
 },
 "nbformat": 4,
 "nbformat_minor": 0
}
