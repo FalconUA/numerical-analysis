{
 "cells": [
  {
   "cell_type": "code",
   "execution_count": 4,
   "metadata": {
    "collapsed": false
   },
   "outputs": [
    {
     "name": "stdout",
     "output_type": "stream",
     "text": [
      "Populating the interactive namespace from numpy and matplotlib\n"
     ]
    }
   ],
   "source": [
    "%matplotlib inline\n",
    "%pylab inline\n",
    "\n",
    "import math\n",
    "import numpy as np\n",
    "from numpy import linalg as lg\n",
    "import matplotlib.pyplot as plt\n",
    "\n",
    "# some constants\n"
   ]
  },
  {
   "cell_type": "markdown",
   "metadata": {},
   "source": [
    "### Кривая Коха\n",
    "Кривая Коха является типичным геометрическим фракталом. Процесс её построения выглядит следующим образом: берём единичный отрезок, разделяем на три равные части и заменяем средний интервал равносторонним треугольником без этого сегмента. В результате образуется ломаная, состоящая из четырёх звеньев длины 1/3. На следующем шаге повторяем операцию для каждого из четырёх получившихся звеньев и т. д… Предельная кривая и есть кривая Коха."
   ]
  },
  {
   "cell_type": "code",
   "execution_count": 5,
   "metadata": {
    "collapsed": false
   },
   "outputs": [],
   "source": [
    "def koch_iteration(points):\n",
    "    if len(points) < 2:\n",
    "        return None\n",
    "    \n",
    "    def rotate(v, angle):\n",
    "        return (v[0]*math.cos(angle) - v[1]*math.sin(angle), \n",
    "               v[0]*math.sin(angle) + v[1]*math.cos(angle))\n",
    "    \n",
    "    new_points = []\n",
    "    length = 0.0\n",
    "    for i in range(len(points)-1):        \n",
    "        v = (points[i+1][0] - points[i][0], points[i+1][1] - points[i][1])\n",
    "        u = (float(v[0])/3., float(v[1])/3.)\n",
    "        w = rotate(u, math.pi/3.)\n",
    "        \n",
    "        new_points.append((points[i][0], points[i][1]))\n",
    "        new_points.append((points[i][0] + u[0], points[i][1] + u[1]))\n",
    "        new_points.append((points[i][0] + u[0] + w[0], points[i][1] + u[1] + w[1]))\n",
    "        new_points.append((points[i][0] + 2.*u[0], points[i][1] + 2.*u[1]))\n",
    "        length += 4.0 * math.sqrt(u[0]**2 + u[1]**2)\n",
    "        \n",
    "    new_points.append((points[len(points)-1][0], points[len(points)-1][1]))\n",
    "    return new_points, length"
   ]
  },
  {
   "cell_type": "code",
   "execution_count": 6,
   "metadata": {
    "collapsed": false,
    "scrolled": false
   },
   "outputs": [
    {
     "data": {
      "image/png": "[encoded data removed]",
      "text/plain": [
       "<matplotlib.figure.Figure at 0x7fac0d9ff6a0>"
      ]
     },
     "metadata": {},
     "output_type": "display_data"
    }
   ],
   "source": [
    "pylab.rcParams['figure.figsize'] = (12, 6)\n",
    "\n",
    "points = [(0, 0), (2, 0)]\n",
    "\n",
    "points, length_1 = koch_iteration(points)\n",
    "points, length_2 = koch_iteration(points)\n",
    "#points, length_3 = koch_iteration(points)\n",
    "\n",
    "x = [points[i][0] for i in range(len(points))]\n",
    "y = [points[i][1] for i in range(len(points))]\n",
    "\n",
    "plt.axis([-0.1, 2.1, -0.2, 0.8])\n",
    "plt.plot(x, y, 'ro')\n",
    "plt.plot(x, y, '--')\n",
    "plt.show()"
   ]
  },
  {
   "cell_type": "markdown",
   "metadata": {},
   "source": [
    "### Полином найлучшего среднеквадратичного приближения\n",
    "Задача построение полинома наперёд заданного степеня $$P_n(x) = \\sum_{k=0}^n{c_kx^k},$$ для которого значение $$J = \\sqrt{\\int_a^b{(f(x)-P(x))^2}} \\rightarrow min$$\n",
    "сводится к поиску коеффициентов $c_k$ через следующую систему:\n",
    "$$\\left( \\begin{matrix}\n",
    "    (\\phi_0, \\phi_0) & (\\phi_0, \\phi_1) & \\dots  & (\\phi_0, \\phi_n) \\\\\n",
    "    (\\phi_1, \\phi_0) & (\\phi_1, \\phi_1) & \\dots  & (\\phi_1, \\phi_n) \\\\\n",
    "    \\vdots           & \\vdots           & \\ddots & \\vdots           \\\\\n",
    "    (\\phi_n, \\phi_0) & (\\phi_n, \\phi_1) & \\dots  & (\\phi_n, \\phi_n) \\\\\n",
    "\\end{matrix} \\right)\n",
    "\\left( \\begin{matrix}\n",
    "    c_0 \\\\\n",
    "    c_1 \\\\\n",
    "    \\vdots \\\\\n",
    "    c_n \\\\\n",
    "\\end{matrix} \\right)\n",
    "=\n",
    "\\left( \\begin{matrix}\n",
    "    (f, \\phi_0) \\\\\n",
    "    (f, \\phi_1) \\\\\n",
    "    \\vdots      \\\\\n",
    "    (f, \\phi_n) \\\\\n",
    "\\end{matrix} \\right)\n",
    "$$\n",
    "где $\\phi_i(x)= x^i$ - базисные функции. \n",
    "Для конечного набора точек $\\{(x_1, y_1), (x_2, y_2) \\dots (x_m, y_m)\\},$ справедливо:  \n",
    "$$(\\phi_i, \\phi_j) = \\sum_{k=0}^m{x_k^i x_k^j}\\\\ (f, \\phi_i) = \\sum_{k=0}^m{y_k x_k^i}$$"
   ]
  },
  {
   "cell_type": "code",
   "execution_count": 7,
   "metadata": {
    "collapsed": true
   },
   "outputs": [],
   "source": [
    "def make_system(x, y, basis):\n",
    "    A = [[0 for j in range(basis)] for i in range(basis)]\n",
    "    b = [0 for i in range(basis)]\n",
    "    \n",
    "    for i in range(basis):\n",
    "        for j in range(basis):    \n",
    "            for k in range(len(x)):\n",
    "                A[i][j] += x[k]**i * x[k]**j\n",
    "        for k in range(len(y)):\n",
    "            b[i] += y[k] * x[k]**i\n",
    "        \n",
    "    return A, b"
   ]
  },
  {
   "cell_type": "code",
   "execution_count": 8,
   "metadata": {
    "collapsed": false,
    "scrolled": false
   },
   "outputs": [
    {
     "name": "stdout",
     "output_type": "stream",
     "text": [
      "0.00000x^7 +-2.80545x^6 +16.83269x^5 +-37.30826x^4 +37.01513x^3 +-15.82361x^2 +2.50412x^1 +-0.00834x^0 +\n"
     ]
    },
    {
     "data": {
      "image/png": "[encoded data removed]",
      "text/plain": [
       "<matplotlib.figure.Figure at 0x7fac0d9e23c8>"
      ]
     },
     "metadata": {},
     "output_type": "display_data"
    }
   ],
   "source": [
    "pylab.rcParams['figure.figsize'] = (12, 6)\n",
    "\n",
    "A, b = make_system(x, y, 8)\n",
    "A = np.array(A)\n",
    "b = np.array(b)\n",
    "\n",
    "c = lg.solve(A, b)[::-1]\n",
    "\n",
    "cs = \"\"\n",
    "for ccc in range(len(c)):\n",
    "    cs += \"%.5f\" % c[ccc]\n",
    "    cs += \"x^%d +\" % (len(c) - ccc - 1)\n",
    "print (cs)\n",
    "\n",
    "P = np.poly1d(c)\n",
    "\n",
    "t = np.linspace(-0.1, 2.1, num=200)\n",
    "plt.axis([-0.1, 2.1, -0.2, 0.8])\n",
    "plt.plot(t, P(t))\n",
    "plt.plot(x, y, 'ro')\n",
    "plt.plot(x, y, '--')\n",
    "\n",
    "plt.show()"
   ]
  },
  {
   "cell_type": "markdown",
   "metadata": {},
   "source": [
    "### Длина полиномиальной кривой\n",
    "Длина кривой графика полинома $P_n(x)$ для $x \\in [a, b]$ можно вычислить по следующей формуле:\n",
    "$$L = \\int_a^b \\sqrt{1 + \\left( \\dfrac{\\partial P_n}{\\partial x} \\right)^2}dx$$"
   ]
  },
  {
   "cell_type": "code",
   "execution_count": 9,
   "metadata": {
    "collapsed": true
   },
   "outputs": [],
   "source": [
    "def polylen(P, a, b, num=100):\n",
    "    dP = np.polyder(P)\n",
    "    I2 = np.polyadd(np.poly1d([1.0]), np.polymul(dP, dP))\n",
    "    \n",
    "    step = float(b - a)/float(num)\n",
    "    \n",
    "    S = 0.0\n",
    "    for i in range(num):\n",
    "        left = float(a) + float(i)*step\n",
    "        right = left = float(a) + float(i)*step + step\n",
    "        \n",
    "        h = math.sqrt((I2(left) + I2(right))/2.0)\n",
    "        S += step * h\n",
    "\n",
    "    return S"
   ]
  },
  {
   "cell_type": "code",
   "execution_count": 10,
   "metadata": {
    "collapsed": false
   },
   "outputs": [
    {
     "name": "stdout",
     "output_type": "stream",
     "text": [
      "Длина полиномиальной кривой: 2.408532292853658\n",
      "Длина кривой Коха 1-го порядка: 2.6666666666666665\n",
      "Длина кривой Коха 2-го порядка: 3.5555555555555554\n"
     ]
    },
    {
     "ename": "NameError",
     "evalue": "name 'length_3' is not defined",
     "output_type": "error",
     "traceback": [
      "\u001b[1;31m---------------------------------------------------------------------------\u001b[0m",
      "\u001b[1;31mNameError\u001b[0m                                 Traceback (most recent call last)",
      "\u001b[1;32m<ipython-input-10-71f0e43dc2d2>\u001b[0m in \u001b[0;36m<module>\u001b[1;34m()\u001b[0m\n\u001b[0;32m      2\u001b[0m \u001b[0mprint\u001b[0m\u001b[1;33m(\u001b[0m\u001b[1;34m\"Длина кривой Коха 1-го порядка:\"\u001b[0m\u001b[1;33m,\u001b[0m \u001b[0mlength_1\u001b[0m\u001b[1;33m)\u001b[0m\u001b[1;33m\u001b[0m\u001b[0m\n\u001b[0;32m      3\u001b[0m \u001b[0mprint\u001b[0m\u001b[1;33m(\u001b[0m\u001b[1;34m\"Длина кривой Коха 2-го порядка:\"\u001b[0m\u001b[1;33m,\u001b[0m \u001b[0mlength_2\u001b[0m\u001b[1;33m)\u001b[0m\u001b[1;33m\u001b[0m\u001b[0m\n\u001b[1;32m----> 4\u001b[1;33m \u001b[0mprint\u001b[0m\u001b[1;33m(\u001b[0m\u001b[1;34m\"Длина кривой Коха 3-го порядка:\"\u001b[0m\u001b[1;33m,\u001b[0m \u001b[0mlength_3\u001b[0m\u001b[1;33m)\u001b[0m\u001b[1;33m\u001b[0m\u001b[0m\n\u001b[0m",
      "\u001b[1;31mNameError\u001b[0m: name 'length_3' is not defined"
     ]
    }
   ],
   "source": [
    "print(\"Длина полиномиальной кривой:\", polylen(P, 0, 2))\n",
    "print(\"Длина кривой Коха 1-го порядка:\", length_1)\n",
    "print(\"Длина кривой Коха 2-го порядка:\", length_2)\n",
    "print(\"Длина кривой Коха 3-го порядка:\", length_3)"
   ]
  },
  {
   "cell_type": "code",
   "execution_count": 15,
   "metadata": {
    "collapsed": false
   },
   "outputs": [
    {
     "name": "stdout",
     "output_type": "stream",
     "text": [
      "-0.89600x^1 +1.48600x^0 +\n"
     ]
    },
    {
     "data": {
      "image/png": "[encoded data removed]",
      "text/plain": [
       "<matplotlib.figure.Figure at 0x7fac0d876128>"
      ]
     },
     "metadata": {},
     "output_type": "display_data"
    }
   ],
   "source": [
    "x = [0.0, 0.25, 0.5, 0.75, 1.0]\n",
    "y = [1.5, 1.27, 0.97, 0.87, 0.58]\n",
    "\n",
    "A, b = make_system(x, y, 3)\n",
    "A = np.array(A)\n",
    "b = np.array(b)\n",
    "\n",
    "c = lg.solve(A, b)[::-1]\n",
    "\n",
    "cs = \"\"\n",
    "for ccc in range(len(c)):\n",
    "    cs += \"%.5f\" % c[ccc]\n",
    "    cs += \"x^%d +\" % (len(c) - ccc - 1)\n",
    "print (cs)\n",
    "\n",
    "P = np.poly1d(c)\n",
    "\n",
    "t = np.linspace(-1, 2, num=200)\n",
    "plt.axis([-0.1, 2.1, -1, 2])\n",
    "plt.plot(t, P(t))\n",
    "plt.plot(x, y, 'ro')\n",
    "plt.plot(x, y, '--')\n",
    "\n",
    "plt.show()"
   ]
  },
  {
   "cell_type": "code",
   "execution_count": null,
   "metadata": {
    "collapsed": true
   },
   "outputs": [],
   "source": []
  }
 ],
 "metadata": {
  "kernelspec": {
   "display_name": "Python 3",
   "language": "python",
   "name": "python3"
  },
  "language_info": {
   "codemirror_mode": {
    "name": "ipython",
    "version": 3
   },
   "file_extension": ".py",
   "mimetype": "text/x-python",
   "name": "python",
   "nbconvert_exporter": "python",
   "pygments_lexer": "ipython3",
   "version": "3.5.1"
  }
 },
 "nbformat": 4,
 "nbformat_minor": 0
}
