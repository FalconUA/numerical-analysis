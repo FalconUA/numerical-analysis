{
 "cells": [
  {
   "cell_type": "code",
   "execution_count": 13,
   "metadata": {
    "collapsed": false
   },
   "outputs": [
    {
     "name": "stdout",
     "output_type": "stream",
     "text": [
      "Populating the interactive namespace from numpy and matplotlib\n"
     ]
    }
   ],
   "source": [
    "%matplotlib inline\n",
    "%pylab inline\n",
    "\n",
    "import math\n",
    "import numpy as np\n",
    "from numpy import linalg as lg\n",
    "import matplotlib.pyplot as plt\n",
    "\n",
    "# some constants\n"
   ]
  },
  {
   "cell_type": "markdown",
   "metadata": {},
   "source": [
    "### Кривая Коха\n",
    "Кривая Коха является типичным геометрическим фракталом. Процесс её построения выглядит следующим образом: берём единичный отрезок, разделяем на три равные части и заменяем средний интервал равносторонним треугольником без этого сегмента. В результате образуется ломаная, состоящая из четырёх звеньев длины 1/3. На следующем шаге повторяем операцию для каждого из четырёх получившихся звеньев и т. д… Предельная кривая и есть кривая Коха."
   ]
  },
  {
   "cell_type": "code",
   "execution_count": 35,
   "metadata": {
    "collapsed": false
   },
   "outputs": [],
   "source": [
    "def koch_iteration(points):\n",
    "    if len(points) < 2:\n",
    "        return None\n",
    "    \n",
    "    def rotate(v, angle):\n",
    "        return (v[0]*math.cos(angle) - v[1]*math.sin(angle), \n",
    "               v[0]*math.sin(angle) + v[1]*math.cos(angle))\n",
    "    \n",
    "    new_points = []\n",
    "    length = 0.0\n",
    "    for i in range(len(points)-1):        \n",
    "        v = (points[i+1][0] - points[i][0], points[i+1][1] - points[i][1])\n",
    "        u = (float(v[0])/3., float(v[1])/3.)\n",
    "        w = rotate(u, math.pi/3.)\n",
    "        \n",
    "        new_points.append((points[i][0], points[i][1]))\n",
    "        new_points.append((points[i][0] + u[0], points[i][1] + u[1]))\n",
    "        new_points.append((points[i][0] + u[0] + w[0], points[i][1] + u[1] + w[1]))\n",
    "        new_points.append((points[i][0] + 2.*u[0], points[i][1] + 2.*u[1]))\n",
    "        length += 4.0 * math.sqrt(u[0]**2 + u[1]**2)\n",
    "        \n",
    "    new_points.append((points[len(points)-1][0], points[len(points)-1][1]))\n",
    "    return new_points, length"
   ]
  },
  {
   "cell_type": "code",
   "execution_count": 41,
   "metadata": {
    "collapsed": false,
    "scrolled": false
   },
   "outputs": [
    {
     "data": {
      "image/png": "[encoded data removed]",
      "text/plain": [
       "<matplotlib.figure.Figure at 0x7f988e168438>"
      ]
     },
     "metadata": {},
     "output_type": "display_data"
    }
   ],
   "source": [
    "pylab.rcParams['figure.figsize'] = (12, 6)\n",
    "\n",
    "points = [(0, 0), (2, 0)]\n",
    "\n",
    "points, length_1 = koch_iteration(points)\n",
    "points, length_2 = koch_iteration(points)\n",
    "points, length_3 = koch_iteration(points)\n",
    "\n",
    "x = [points[i][0] for i in range(len(points))]\n",
    "y = [points[i][1] for i in range(len(points))]\n",
    "\n",
    "plt.axis([-0.1, 2.1, -0.2, 0.8])\n",
    "plt.plot(x, y, 'ro')\n",
    "plt.plot(x, y, '--')\n",
    "plt.show()"
   ]
  },
  {
   "cell_type": "markdown",
   "metadata": {},
   "source": [
    "### Полином найлучшего среднеквадратичного приближения\n",
    "Задача построение полинома наперёд заданного степеня $$P_n(x) = \\sum_{k=0}^n{c_kx^k},$$ для которого значение $$J = \\sqrt{\\int_a^b{(f(x)-P(x))^2}} \\rightarrow min$$\n",
    "сводится к поиску коеффициентов $c_k$ через следующую систему:\n",
    "$$\n",
    "\\begin{bmatrix}\n",
    "    (\\phi_0, \\phi_0) & (\\phi_0, \\phi_1) & \\dots  & (\\phi_0, \\phi_n) \\\\\n",
    "    (\\phi_1, \\phi_0) & (\\phi_1, \\phi_1) & \\dots  & (\\phi_1, \\phi_n) \\\\\n",
    "    \\vdots           & \\vdots           & \\ddots & \\vdots           \\\\\n",
    "    (\\phi_n, \\phi_0) & (\\phi_n, \\phi_1) & \\dots  & (\\phi_n, \\phi_n) \\\\\n",
    "\\end{bmatrix}\n",
    "\\begin{bmatrix}\n",
    "    c_0 \\\\\n",
    "    c_1 \\\\\n",
    "    \\vdots \\\\\n",
    "    c_n \\\\\n",
    "\\end{bmatrix}\n",
    "=\n",
    "\\begin{bmatrix}\n",
    "    (f, \\phi_0) \\\\\n",
    "    (f, \\phi_1) \\\\\n",
    "    \\vdots      \\\\\n",
    "    (f, \\phi_n) \\\\\n",
    "\\end{bmatrix}\n",
    "$$\n",
    "где $\\phi_i(x)= x^i$ - базисные функции. \n",
    "Для конечного набора точек $\\{(x_1, y_1), (x_2, y_2) \\dots (x_m, y_m)\\},$ справедливо:  \n",
    "$$(\\phi_i, \\phi_j) = \\sum_{k=0}^m{x_k^i x_k^j}\\\\ (f, \\phi_i) = \\sum_{k=0}^m{y_k x_k^i}$$"
   ]
  },
  {
   "cell_type": "code",
   "execution_count": 42,
   "metadata": {
    "collapsed": true
   },
   "outputs": [],
   "source": [
    "def make_system(x, y, basis):\n",
    "    A = [[0 for j in range(basis)] for i in range(basis)]\n",
    "    b = [0 for i in range(basis)]\n",
    "    \n",
    "    for i in range(basis):\n",
    "        for j in range(basis):    \n",
    "            for k in range(len(x)):\n",
    "                A[i][j] += x[k]**i * x[k]**j\n",
    "        for k in range(len(y)):\n",
    "            b[i] += y[k] * x[k]**i\n",
    "        \n",
    "    return A, b"
   ]
  },
  {
   "cell_type": "code",
   "execution_count": 43,
   "metadata": {
    "collapsed": false,
    "scrolled": false
   },
   "outputs": [
    {
     "name": "stdout",
     "output_type": "stream",
     "text": [
      "[ -1.00530465e-03   7.26383319e-03   2.20078035e-02  -2.30990822e-02\n",
      "   4.56829260e-03   1.49469319e-02  -1.61059233e-01  -7.30110929e-01\n",
      "  -6.56737471e-01   1.86596223e+00   2.11583126e+00  -1.88121806e+00\n",
      "   4.93455283e-14]\n"
     ]
    },
    {
     "data": {
      "image/png": "[encoded data removed]",
      "text/plain": [
       "<matplotlib.figure.Figure at 0x7f988e0f69b0>"
      ]
     },
     "metadata": {},
     "output_type": "display_data"
    }
   ],
   "source": [
    "pylab.rcParams['figure.figsize'] = (12, 6)\n",
    "\n",
    "A, b = make_system(x, y, 10)\n",
    "A = np.array(A)\n",
    "b = np.array(b)\n",
    "\n",
    "c = lg.solve(A, b)[::-1]\n",
    "print(c)\n",
    "P = np.poly1d(c)\n",
    "\n",
    "t = np.linspace(-0.1, 2.1, num=200)\n",
    "plt.axis([-0.1, 2.1, -0.2, 0.8])\n",
    "plt.plot(t, P(t))\n",
    "plt.plot(x, y, 'ro')\n",
    "plt.plot(x, y, '--')\n",
    "\n",
    "plt.show()"
   ]
  },
  {
   "cell_type": "code",
   "execution_count": 44,
   "metadata": {
    "collapsed": true
   },
   "outputs": [],
   "source": [
    "def polylen(P, a, b, num=100):\n",
    "    dP = np.polyder(P)\n",
    "    I2 = np.polyadd(np.poly1d([1.0]), np.polymul(dP, dP))\n",
    "    \n",
    "    step = float(b - a)/float(num)\n",
    "    \n",
    "    S = 0.0\n",
    "    for i in range(num):\n",
    "        left = float(a) + float(i)*step\n",
    "        right = left = float(a) + float(i)*step + step\n",
    "        \n",
    "        h = math.sqrt((I2(left) + I2(right))/2.0)\n",
    "        S += step * h\n",
    "\n",
    "    return S"
   ]
  },
  {
   "cell_type": "code",
   "execution_count": 45,
   "metadata": {
    "collapsed": false
   },
   "outputs": [
    {
     "name": "stdout",
     "output_type": "stream",
     "text": [
      "Длина полиномиальной кривой: 10.185463135923134\n",
      "Длина кривой Коха 1-го порядка: 2.6666666666666665\n",
      "Длина кривой Коха 2-го порядка: 3.5555555555555554\n",
      "Длина кривой Коха 3-го порядка: 4.7407407407407405\n"
     ]
    }
   ],
   "source": [
    "print(\"Длина полиномиальной кривой:\", polylen(P, 0, 2))\n",
    "print(\"Длина кривой Коха 1-го порядка:\", length_1)\n",
    "print(\"Длина кривой Коха 2-го порядка:\", length_2)\n",
    "print(\"Длина кривой Коха 3-го порядка:\", length_3)"
   ]
  },
  {
   "cell_type": "code",
   "execution_count": null,
   "metadata": {
    "collapsed": true
   },
   "outputs": [],
   "source": []
  }
 ],
 "metadata": {
  "kernelspec": {
   "display_name": "Python 3",
   "language": "python",
   "name": "python3"
  },
  "language_info": {
   "codemirror_mode": {
    "name": "ipython",
    "version": 3
   },
   "file_extension": ".py",
   "mimetype": "text/x-python",
   "name": "python",
   "nbconvert_exporter": "python",
   "pygments_lexer": "ipython3",
   "version": "3.5.1"
  }
 },
 "nbformat": 4,
 "nbformat_minor": 0
}
