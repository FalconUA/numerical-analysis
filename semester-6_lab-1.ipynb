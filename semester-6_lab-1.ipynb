{
 "cells": [
  {
   "cell_type": "code",
   "execution_count": 71,
   "metadata": {
    "collapsed": true
   },
   "outputs": [],
   "source": [
    "%matplotlib inline\n",
    "\n",
    "import math\n",
    "import numpy as np\n",
    "from numpy import linalg as lg\n",
    "import matplotlib.pyplot as plt\n",
    "\n",
    "# some constants\n"
   ]
  },
  {
   "cell_type": "markdown",
   "metadata": {},
   "source": [
    "### Кривая Коха\n",
    "Кривая Коха является типичным геометрическим фракталом. Процесс её построения выглядит следующим образом: берём единичный отрезок, разделяем на три равные части и заменяем средний интервал равносторонним треугольником без этого сегмента. В результате образуется ломаная, состоящая из четырёх звеньев длины 1/3. На следующем шаге повторяем операцию для каждого из четырёх получившихся звеньев и т. д… Предельная кривая и есть кривая Коха."
   ]
  },
  {
   "cell_type": "code",
   "execution_count": 72,
   "metadata": {
    "collapsed": false
   },
   "outputs": [],
   "source": [
    "def koch_iteration(points):\n",
    "    if len(points) < 2:\n",
    "        return None\n",
    "    \n",
    "    def rotate(v, angle):\n",
    "        return (v[0]*math.cos(angle) - v[1]*math.sin(angle), \n",
    "               v[0]*math.sin(angle) + v[1]*math.cos(angle))\n",
    "    \n",
    "    new_points = []\n",
    "    for i in range(len(points)-1):        \n",
    "        v = (points[i+1][0] - points[i][0], points[i+1][1] - points[i][1])\n",
    "        u = (float(v[0])/3., float(v[1])/3.)\n",
    "        w = rotate(u, math.pi/3.)\n",
    "        \n",
    "        new_points.append((points[i][0], points[i][1]))\n",
    "        new_points.append((points[i][0] + u[0], points[i][1] + u[1]))\n",
    "        new_points.append((points[i][0] + u[0] + w[0], points[i][1] + u[1] + w[1]))\n",
    "        new_points.append((points[i][0] + 2.*u[0], points[i][1] + 2.*u[1]))\n",
    "        \n",
    "    new_points.append((points[len(points)-1][0], points[len(points)-1][1]))\n",
    "    return new_points"
   ]
  },
  {
   "cell_type": "code",
   "execution_count": 74,
   "metadata": {
    "collapsed": false
   },
   "outputs": [
    {
     "data": {
      "image/png": "[encoded data removed]",
      "text/plain": [
       "<matplotlib.figure.Figure at 0x7f9493754b70>"
      ]
     },
     "metadata": {},
     "output_type": "display_data"
    }
   ],
   "source": [
    "pylab.rcParams['figure.figsize'] = (12, 6)\n",
    "\n",
    "points = [(0, 0), (2, 0)]\n",
    "\n",
    "points = koch_iteration(points)\n",
    "points = koch_iteration(points)\n",
    "points = koch_iteration(points)\n",
    "\n",
    "x = [points[i][0] for i in range(len(points))]\n",
    "y = [points[i][1] for i in range(len(points))]\n",
    "\n",
    "plt.axis([-0.1, 2.1, -0.2, 0.8])\n",
    "plt.plot(x, y, 'ro')\n",
    "plt.plot(x, y, '--')\n",
    "plt.show()"
   ]
  },
  {
   "cell_type": "code",
   "execution_count": null,
   "metadata": {
    "collapsed": true
   },
   "outputs": [],
   "source": []
  }
 ],
 "metadata": {
  "kernelspec": {
   "display_name": "Python 3",
   "language": "python",
   "name": "python3"
  },
  "language_info": {
   "codemirror_mode": {
    "name": "ipython",
    "version": 3
   },
   "file_extension": ".py",
   "mimetype": "text/x-python",
   "name": "python",
   "nbconvert_exporter": "python",
   "pygments_lexer": "ipython3",
   "version": "3.5.1"
  }
 },
 "nbformat": 4,
 "nbformat_minor": 0
}
